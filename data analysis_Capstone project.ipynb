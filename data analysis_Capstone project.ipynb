{
 "cells": [
  {
   "cell_type": "markdown",
   "id": "da13995c",
   "metadata": {},
   "source": [
    "# Data analysis using Numpy Pandas and matplotlib , seaborn on  Iries dataset"
   ]
  },
  {
   "cell_type": "markdown",
   "id": "6aa4ac09",
   "metadata": {},
   "source": [
    "# About Dataset\n"
   ]
  },
  {
   "cell_type": "markdown",
   "id": "b184da29",
   "metadata": {},
   "source": [
    "If you are from a data science background you all must be familiar with the Iris Dataset. If you are not then don’t worry we will discuss this here.\n",
    "\n",
    "Iris Dataset is considered as the Hello World for data science. It contains five columns namely – Petal Length, Petal Width, Sepal Length, Sepal Width, and Species Type. Iris is a flowering plant, the researchers have measured various features of the different iris flowers and recorded them digitally.\n",
    "\n"
   ]
  },
  {
   "cell_type": "code",
   "execution_count": 1,
   "id": "659e70ab",
   "metadata": {},
   "outputs": [
    {
     "name": "stdout",
     "output_type": "stream",
     "text": [
      "NumPy version: 1.26.4\n"
     ]
    }
   ],
   "source": [
    "import numpy as np\n",
    "print(\"NumPy version:\", np.__version__)\n"
   ]
  },
  {
   "cell_type": "code",
   "execution_count": 2,
   "id": "81495a92",
   "metadata": {},
   "outputs": [
    {
     "name": "stdout",
     "output_type": "stream",
     "text": [
      "D:\\ProgramData\\python.exe\n"
     ]
    }
   ],
   "source": [
    "import sys\n",
    "print(sys.executable)\n"
   ]
  },
  {
   "cell_type": "code",
   "execution_count": 3,
   "id": "9cc96329",
   "metadata": {},
   "outputs": [
    {
     "name": "stdout",
     "output_type": "stream",
     "text": [
      "Pandas version: 2.2.2\n"
     ]
    }
   ],
   "source": [
    "import pandas as pd\n",
    "print(\"Pandas version:\", pd.__version__)\n"
   ]
  },
  {
   "cell_type": "code",
   "execution_count": 4,
   "id": "28e92a74",
   "metadata": {},
   "outputs": [],
   "source": [
    "import scipy\n"
   ]
  },
  {
   "cell_type": "code",
   "execution_count": 5,
   "id": "6b2e5990",
   "metadata": {
    "scrolled": true
   },
   "outputs": [
    {
     "name": "stdout",
     "output_type": "stream",
     "text": [
      "SciPy version: 1.13.1\n",
      "Matplotlib version: 3.9.2\n",
      "Scikit-learn version: 1.5.1\n",
      "Seaborn version: 0.13.2\n"
     ]
    }
   ],
   "source": [
    "import matplotlib\n",
    "import sklearn\n",
    "\n",
    "import seaborn\n",
    "\n",
    "print(\"SciPy version:\", scipy.__version__)\n",
    "print(\"Matplotlib version:\", matplotlib.__version__)\n",
    "print(\"Scikit-learn version:\", sklearn.__version__)\n",
    "\n",
    "print(\"Seaborn version:\", seaborn.__version__)\n"
   ]
  },
  {
   "cell_type": "code",
   "execution_count": 6,
   "id": "3d7ac8ac-104f-4d6e-b10d-ac9c25f5fd9f",
   "metadata": {},
   "outputs": [
    {
     "name": "stdout",
     "output_type": "stream",
     "text": [
      "Statsmodels version: 0.14.2\n"
     ]
    }
   ],
   "source": [
    "import statsmodels\n",
    "print(\"Statsmodels version:\", statsmodels.__version__)"
   ]
  },
  {
   "cell_type": "code",
   "execution_count": null,
   "id": "270343d9",
   "metadata": {},
   "outputs": [],
   "source": [
    "# Printing top 5 rows\n",
    "df.head()"
   ]
  },
  {
   "cell_type": "code",
   "execution_count": null,
   "id": "1c647179",
   "metadata": {},
   "outputs": [],
   "source": [
    "df.shape\n",
    "#We can see that the dataframe contains 6 columns and 150 rows.\n",
    "\n"
   ]
  },
  {
   "cell_type": "markdown",
   "id": "c0e0ee30",
   "metadata": {},
   "source": [
    "#We can see that the dataframe contains 6 columns and 150 rows.\n"
   ]
  },
  {
   "cell_type": "code",
   "execution_count": null,
   "id": "2f328cdc",
   "metadata": {},
   "outputs": [],
   "source": [
    "#Now, let’s also the columns and their data types. For this, we will use the info() method.\n",
    "df.info()\n"
   ]
  },
  {
   "cell_type": "markdown",
   "id": "b1de205a",
   "metadata": {},
   "source": [
    "#We can see that only one column has categorical data and all the other columns are of the numeric type with non-Null entries."
   ]
  },
  {
   "cell_type": "code",
   "execution_count": null,
   "id": "e5ac279a",
   "metadata": {
    "scrolled": true
   },
   "outputs": [],
   "source": [
    "#Let’s get a quick statistical summary of the dataset using the describe() method. \n",
    "\n",
    "df.describe()\n"
   ]
  },
  {
   "cell_type": "markdown",
   "id": "40991999",
   "metadata": {},
   "source": [
    "#The describe() function applies basic statistical computations on the dataset like extreme values, \n",
    "#count of data points standard deviation, etc. \n",
    "#Any missing value or NaN value is automatically skipped. \n",
    "#describe() function gives a good picture of the distribution of data."
   ]
  },
  {
   "cell_type": "markdown",
   "id": "dd7b822e",
   "metadata": {},
   "source": [
    "# Checking Missing Values"
   ]
  },
  {
   "cell_type": "code",
   "execution_count": null,
   "id": "c727eb8a",
   "metadata": {},
   "outputs": [],
   "source": [
    "#We will check if our data contains any missing values or not.\n",
    "#Missing values can occur when no information is provided for one or more items or for a whole unit. \n",
    "#We will use the isnull() method.\n",
    "df.isnull().sum()\n"
   ]
  },
  {
   "cell_type": "markdown",
   "id": "3ce0739a",
   "metadata": {},
   "source": [
    "We can see that no column as any missing value."
   ]
  },
  {
   "cell_type": "markdown",
   "id": "fb307eb7",
   "metadata": {},
   "source": [
    "# Checking Duplicates"
   ]
  },
  {
   "cell_type": "code",
   "execution_count": null,
   "id": "e7899f36",
   "metadata": {},
   "outputs": [],
   "source": [
    "#Let’s see if our dataset contains any duplicates or not. \n",
    "#Pandas drop_duplicates() method helps in removing duplicates from the data frame.\n",
    "data = df.drop_duplicates(subset =\"Species\",)\n",
    "data\n"
   ]
  },
  {
   "cell_type": "markdown",
   "id": "4cfe7acf",
   "metadata": {},
   "source": [
    "We can see that there are only three unique species. "
   ]
  },
  {
   "cell_type": "code",
   "execution_count": null,
   "id": "ba0f6349",
   "metadata": {},
   "outputs": [],
   "source": [
    "#Let’s see if the dataset is balanced or not i.e. \n",
    "#all the species contain equal amounts of rows or not.\n",
    "df.value_counts(\"Species\")\n"
   ]
  },
  {
   "cell_type": "markdown",
   "id": "a8227801",
   "metadata": {},
   "source": [
    "We can see that all the species contain an equal amount of rows, so we should not delete any entries."
   ]
  },
  {
   "cell_type": "markdown",
   "id": "b988c15f",
   "metadata": {},
   "source": [
    "# Data Visualization"
   ]
  },
  {
   "cell_type": "markdown",
   "id": "6d114212",
   "metadata": {},
   "source": [
    "Visualizing the target column\n",
    "Our target column will be the Species column \n",
    "because at the end we will need the result according to the species only. \n",
    "Let’s see a countplot for species."
   ]
  },
  {
   "cell_type": "code",
   "execution_count": null,
   "id": "40a27f45",
   "metadata": {},
   "outputs": [],
   "source": [
    "# importing packages\n",
    "import seaborn as sns\n",
    "import matplotlib.pyplot as plt\n",
    "\n",
    "\n",
    "sns.countplot(x='Species', data=df, )\n",
    "plt.show()\n"
   ]
  },
  {
   "cell_type": "markdown",
   "id": "401631dc",
   "metadata": {},
   "source": [
    "we can see that all 3 catagory has equal number of cvalue counts / records "
   ]
  },
  {
   "cell_type": "markdown",
   "id": "7626d72d",
   "metadata": {},
   "source": [
    "# Relation between variables"
   ]
  },
  {
   "cell_type": "markdown",
   "id": "387a382f",
   "metadata": {},
   "source": [
    "We will see the relationship between the sepal length and sepal width and \n",
    "also between petal length and petal width.\n",
    "\n",
    "Example 1: Comparing Sepal Length and Sepal Width"
   ]
  },
  {
   "cell_type": "code",
   "execution_count": null,
   "id": "3686c070",
   "metadata": {},
   "outputs": [],
   "source": [
    "sns.scatterplot(x='SepalLengthCm', y='SepalWidthCm',\n",
    "                hue='Species', data=df, )\n",
    "\n",
    "#Legend is the identifier of variables with respect to its color\n",
    "# Placing Legend outside the Figure\n",
    "plt.legend(bbox_to_anchor=(1, 1), loc=2)\n",
    "\n",
    "plt.show()\n"
   ]
  },
  {
   "cell_type": "markdown",
   "id": "197659b1",
   "metadata": {},
   "source": [
    "From the above plot, we can infer that – \n",
    "\n",
    "Species Setosa has smaller sepal lengths but larger sepal widths.\n",
    "Versicolor Species lies in the middle of the other two species in terms of sepal length and width\n",
    "Species Virginica has larger sepal lengths but smaller sepal widths."
   ]
  },
  {
   "cell_type": "markdown",
   "id": "aceb5364",
   "metadata": {},
   "source": [
    "# Example 2: Comparing Petal Length and Petal Width"
   ]
  },
  {
   "cell_type": "code",
   "execution_count": null,
   "id": "c690e588",
   "metadata": {},
   "outputs": [],
   "source": [
    "sns.scatterplot(x='PetalLengthCm', y='PetalWidthCm',\n",
    "                hue='Species', data=df, )\n",
    "\n",
    "# Placing Legend outside the Figure\n",
    "plt.legend(bbox_to_anchor=(1, 1), loc=2)\n",
    "\n",
    "plt.show()\n"
   ]
  },
  {
   "cell_type": "markdown",
   "id": "10d25198",
   "metadata": {},
   "source": [
    "From the above plot, we can infer that – \n",
    "\n",
    "Species Setosa has smaller petal lengths and widths.\n",
    "Versicolor Species lies in the middle of the other two species in terms of petal length and width\n",
    "Species Virginica has the largest of petal lengths and widths."
   ]
  },
  {
   "cell_type": "markdown",
   "id": "994f5571",
   "metadata": {},
   "source": [
    "# Histograms"
   ]
  },
  {
   "cell_type": "markdown",
   "id": "f831d335",
   "metadata": {},
   "source": [
    "Histograms allow seeing the distribution of data for various columns. \n",
    "It can be used for uni as well as bi-variate analysis."
   ]
  },
  {
   "cell_type": "code",
   "execution_count": null,
   "id": "3747133a",
   "metadata": {},
   "outputs": [],
   "source": [
    "# importing packages\n",
    "import seaborn as sns\n",
    "import matplotlib.pyplot as plt\n",
    "\n",
    "\n",
    "fig, axes = plt.subplots(2, 2, figsize=(10,10))\n",
    "\n",
    "axes[0,0].set_title(\"Sepal Length\")\n",
    "axes[0,0].hist(df['SepalLengthCm'], bins=7)\n",
    "\n",
    "axes[0,1].set_title(\"Sepal Width\")\n",
    "axes[0,1].hist(df['SepalWidthCm'], bins=5);\n",
    "\n",
    "axes[1,0].set_title(\"Petal Length\")\n",
    "axes[1,0].hist(df['PetalLengthCm'], bins=6);\n",
    "\n",
    "axes[1,1].set_title(\"Petal Width\")\n",
    "axes[1,1].hist(df['PetalWidthCm'], bins=6);\n"
   ]
  },
  {
   "cell_type": "markdown",
   "id": "7afb816d",
   "metadata": {},
   "source": [
    "From the above plot, we can see that – \n",
    "\n",
    "The highest frequency of the sepal length is between 30 and 35 which is between 5.5 and 6\n",
    "The highest frequency of the sepal Width is around 70 which is between 3.0 and 3.5\n",
    "The highest frequency of the petal length is around 50 which is between 1 and 2\n",
    "The highest frequency of the petal width is between 40 and 50 which is between 0.0 and 0.5"
   ]
  },
  {
   "cell_type": "markdown",
   "id": "d0c582c9",
   "metadata": {},
   "source": [
    "# Handling Correlation"
   ]
  },
  {
   "cell_type": "markdown",
   "id": "54452922",
   "metadata": {},
   "source": [
    "Pandas dataframe.corr() is used to find the pairwise correlation of all columns in the dataframe. Any NA values are automatically excluded. For any non-numeric data type columns in the dataframe it is ignored.\n",
    "\n",
    "Example:"
   ]
  },
  {
   "cell_type": "code",
   "execution_count": null,
   "id": "8c4bd3b3",
   "metadata": {},
   "outputs": [],
   "source": [
    "data.select_dtypes(include=['number']).corr(method='pearson')\n",
    "\n"
   ]
  },
  {
   "cell_type": "markdown",
   "id": "a5fbfa90",
   "metadata": {},
   "source": [
    "# Heatmaps"
   ]
  },
  {
   "cell_type": "markdown",
   "id": "abe5cb6f",
   "metadata": {},
   "source": [
    "The heatmap is a data visualization technique that is used to analyze the dataset as colors in two dimensions. Basically, it shows a correlation between all numerical variables in the dataset. \n",
    "In simpler terms, we can plot the above-found correlation using the heatmaps."
   ]
  },
  {
   "cell_type": "code",
   "execution_count": null,
   "id": "3f307ca2",
   "metadata": {
    "scrolled": true
   },
   "outputs": [],
   "source": [
    "df.columns"
   ]
  },
  {
   "cell_type": "code",
   "execution_count": null,
   "id": "13baa62c-7afc-4409-aa84-728c3c71588e",
   "metadata": {},
   "outputs": [],
   "source": [
    "\n",
    "# Calculate the correlation matrix\n",
    "correlation_matrix = df.corr()\n",
    "\n",
    "# Display the correlation matrix\n",
    "print(correlation_matrix)\n",
    "\n",
    "\n"
   ]
  },
  {
   "cell_type": "code",
   "execution_count": null,
   "id": "52e7d2b6-e744-463f-ba34-4abdfa3d7382",
   "metadata": {},
   "outputs": [],
   "source": [
    "#Visualize the correlation matrix using a heatmap\n",
    "import seaborn as sns\n",
    "import matplotlib.pyplot as plt\n",
    "\n",
    "plt.figure(figsize=(8, 6))\n",
    "sns.heatmap(correlation_matrix, annot=True, cmap=\"coolwarm\", fmt=\".2f\")\n",
    "plt.title(\"Correlation Matrix Heatmap\")\n",
    "plt.show()"
   ]
  },
  {
   "cell_type": "markdown",
   "id": "d5f269c4",
   "metadata": {},
   "source": [
    "From the above graph, we can see that –\n",
    "\n",
    "Petal width and petal length have high correlations. \n",
    "Petal length and sepal width have good correlations.\n",
    "Petal Width and Sepal length have good correlations."
   ]
  },
  {
   "cell_type": "markdown",
   "id": "b73df623",
   "metadata": {},
   "source": [
    "\n",
    "# Box Plots"
   ]
  },
  {
   "cell_type": "code",
   "execution_count": null,
   "id": "e05ce629",
   "metadata": {},
   "outputs": [],
   "source": [
    "import seaborn as sns\n",
    "import matplotlib.pyplot as plt\n",
    "import pandas as pd\n",
    "\n",
    "# Example: Load Iris dataset (replace with your DataFrame if different)\n",
    "df = sns.load_dataset('iris')\n",
    "df.rename(columns={\n",
    "    'sepal_length': 'SepalLengthCm', \n",
    "    'sepal_width': 'SepalWidthCm',\n",
    "    'petal_length': 'PetalLengthCm',\n",
    "    'petal_width': 'PetalWidthCm',\n",
    "    'species': 'Species'\n",
    "}, inplace=True)\n",
    "\n",
    "# Function for boxplot\n",
    "def graph(y):\n",
    "    sns.boxplot(x=\"Species\", y=y, data=df)\n",
    "\n",
    "plt.figure(figsize=(10, 10))\n",
    "\n",
    "# Adding subplots\n",
    "plt.subplot(221)\n",
    "graph('SepalLengthCm')\n",
    "\n",
    "plt.subplot(222)\n",
    "graph('SepalWidthCm')\n",
    "\n",
    "plt.subplot(223)\n",
    "graph('PetalLengthCm')\n",
    "\n",
    "plt.subplot(224)\n",
    "graph('PetalWidthCm')\n",
    "\n",
    "plt.tight_layout()\n",
    "plt.show()\n"
   ]
  },
  {
   "cell_type": "markdown",
   "id": "23c2c773",
   "metadata": {},
   "source": [
    "From the above graph, we can see that – \n",
    "\n",
    "Species Setosa has the smallest features and less distributed with some outliers.\n",
    "Species Versicolor has the average features.\n",
    "Species Virginica has the highest features"
   ]
  },
  {
   "cell_type": "markdown",
   "id": "ef9a409c",
   "metadata": {},
   "source": [
    "# Handling Outliers"
   ]
  },
  {
   "cell_type": "markdown",
   "id": "04418bfd",
   "metadata": {},
   "source": [
    "An Outlier is a data-item/object that deviates significantly from the rest of the (so-called normal)objects. They can be caused by measurement or execution errors. The analysis for outlier detection is referred to as outlier mining. There are many ways to detect the outliers, and the removal process is the data frame same as removing a data item from the panda’s dataframe.\n",
    "\n",
    "Let’s consider the iris dataset and let’s plot the boxplot for the SepalWidthCm column."
   ]
  },
  {
   "cell_type": "code",
   "execution_count": null,
   "id": "31699052",
   "metadata": {},
   "outputs": [],
   "source": [
    "sns.boxplot(x='SepalWidthCm', data=df)\n"
   ]
  },
  {
   "cell_type": "markdown",
   "id": "d73edd5e",
   "metadata": {},
   "source": [
    "In the above graph, the values above 4 and below 2 are acting as outliers."
   ]
  },
  {
   "cell_type": "markdown",
   "id": "d72804e2",
   "metadata": {},
   "source": [
    "# Removing Outliers"
   ]
  },
  {
   "cell_type": "markdown",
   "id": "f678dbb0",
   "metadata": {},
   "source": [
    "For removing the outlier, one must follow the same process of removing an entry from the dataset using its exact position in the dataset because in all the above methods of detecting the outliers end result is the list of all those data items that satisfy the outlier definition according to the method used.\n",
    "\n",
    "Example: We will detect the outliers using IQR and then we will remove them. We will also draw the boxplot to see if the outliers are removed or not."
   ]
  },
  {
   "cell_type": "code",
   "execution_count": null,
   "id": "fadd4a71",
   "metadata": {},
   "outputs": [],
   "source": [
    "import numpy as np\n",
    "\n",
    "# IQR \n",
    "Q1 = np.percentile(df['SepalWidthCm'], 25, \n",
    "                interpolation = 'midpoint') \n",
    "\n",
    "Q3 = np.percentile(df['SepalWidthCm'], 75, \n",
    "                interpolation = 'midpoint') \n",
    "IQR = Q3 - Q1 \n",
    "\n",
    "print(\"Old Shape: \", df.shape) \n"
   ]
  },
  {
   "cell_type": "code",
   "execution_count": null,
   "id": "0ba037b6",
   "metadata": {},
   "outputs": [],
   "source": [
    "# Upper bound \n",
    "upper = np.where(df['SepalWidthCm'] >= (Q3+1.5*IQR)) \n",
    "\n",
    "# Lower bound \n",
    "lower = np.where(df['SepalWidthCm'] <= (Q1-1.5*IQR)) \n",
    "\n",
    "# Removing the Outliers \n",
    "df.drop(upper[0], inplace = True) # Remove outliers above upper bound\n",
    "df.drop(lower[0], inplace = True) # Remove outliers below lower bound\n",
    "\n",
    "print(\"New Shape: \", df.shape) \n",
    "\n",
    "sns.boxplot(x='SepalWidthCm', data=df)\n"
   ]
  },
  {
   "cell_type": "markdown",
   "id": "ee8ddd04",
   "metadata": {},
   "source": [
    " Defining Upper and Lower Bounds for Outliers\n",
    "Outliers are data points that are significantly different from other points in the dataset. \n",
    "The Interquartile Range (IQR) method is a common approach for identifying outliers:\n",
    "\n",
    "Q1 (First Quartile): The 25th percentile of the data (25% of the data points are below this value).\n",
    "Q3 (Third Quartile): The 75th percentile of the data (75% of the data points are below this value).\n",
    "IQR (Interquartile Range): The difference between Q3 and Q1 (IQR = Q3 - Q1).\n",
    "Outliers are defined as:\n",
    "\n",
    "Data points greater than Q3 + 1.5 * IQR (upper bound)\n",
    "Data points less than Q1 - 1.5 * IQR (lower bound)\n",
    "The code calculates the upper and lower bounds for detecting outliers in the SepalWidthCm column."
   ]
  },
  {
   "cell_type": "markdown",
   "id": "9930b080",
   "metadata": {},
   "source": [
    "Summary of the Code:\n",
    "Identifying Outliers: It calculates the upper and lower bounds for outliers using the IQR method.\n",
    "Removing Outliers: It removes any data points in the SepalWidthCm column that lie outside the bounds.\n",
    "Displaying the Result: It shows the new shape of the DataFrame after removing the outliers and visualizes the cleaned data with a boxplot."
   ]
  },
  {
   "cell_type": "markdown",
   "id": "76143f0e-f3ce-4444-b65f-5140af903aee",
   "metadata": {},
   "source": [
    "Assignment 1- analyze the data and find the relationship between variaqbles\n",
    "predict the target variable(specis name ) of sepal length and sepal width,petal length and petal width\n",
    "example :\n",
    "if sepal lenth is 122.34 and sepal width is 23.45\n",
    "and \n",
    "petal lenth is 56.00 , petal width is 34.45 \n",
    "then  gthe preducted specis is setosa \n",
    "\n",
    "Assignment  2\n",
    "find the outlier in every column , remove the outlier "
   ]
  },
  {
   "cell_type": "markdown",
   "id": "5c466da4-06d3-4214-b934-65cdfadc38ba",
   "metadata": {},
   "source": [
    "#Assigment:--\n",
    "----------\n",
    "\n",
    "# Species:--\n",
    "# Iris-setosa        \n",
    "# Iris-versicolor    \n",
    "# Iris-virginica\n",
    "\n",
    "# Iris-setosa\n",
    " If sepal length is [7.0] and sepal width is [2.5] and petal lenth is [4.1],petal width is [1.5] then the predicted Specis is \n",
    " Iris-setosa.\n",
    "\n",
    "## Iris-versicolor \n",
    "If sepal length is [5.2] and sepal width is [3.2] and petal lenth is [5.0],petal width is [1.2] then the predicted Specis is \n",
    " Iris-versicolor.\n",
    "\n",
    "# Iris-virginica 6.5, 3.0, 5.5, 2.0\n",
    "If sepal length is [6.5] and sepal width is [3.0] and petal lenth is [5.5],petal width is [2.0] then the predicted Specis is \n",
    " Iris-.\n"
   ]
  },
  {
   "cell_type": "code",
   "execution_count": null,
   "id": "1f5d7e60-439c-4266-b67a-e3032d8fcba9",
   "metadata": {},
   "outputs": [],
   "source": [
    "import pandas as pd\n",
    "from sklearn.ensemble import RandomForestClassifier\n",
    "from sklearn.model_selection import train_test_split\n",
    "from sklearn.preprocessing import LabelEncoder\n",
    "\n",
    "# Load the Iris dataset (use the correct path for your file)\n",
    "data = pd.read_csv(r\"C:\\Users\\asimk\\OneDrive\\Documents\\Jupyter Notebook files\\dataset\\Iris.csv\")\n",
    "\n",
    "# Features and target\n",
    "X = data[['SepalLengthCm', 'SepalWidthCm', 'PetalLengthCm', 'PetalWidthCm']]\n",
    "y = data['Species']\n",
    "\n",
    "# Encode the target labels (species)\n",
    "label_encoder = LabelEncoder()\n",
    "y_encoded = label_encoder.fit_transform(y)\n",
    "\n",
    "# Split the dataset into training and test sets\n",
    "X_train, X_test, y_train, y_test = train_test_split(X, y_encoded, test_size=0.2, random_state=42)\n",
    "\n",
    "# Train the model\n",
    "model = RandomForestClassifier(random_state=42)\n",
    "model.fit(X_train, y_train)\n",
    "\n",
    "# Function to predict species based on input measurements\n",
    "\n",
    "\n",
    "# Test predictions for all three species\n",
    "print(\"Prediction for Iris-setosa-like values:\", predict_species(5.1, 3.5, 1.4, 0.2))  # Typical Setosa values\n",
    "print(\"Prediction for Iris-versicolor-like values:\", predict_species(6.0, 2.9, 4.5, 1.5))  # Typical Versicolor values\n",
    "print(\"Prediction for Iris-virginica-like values:\", predict_species(6.5, 3.0, 5.5, 2.0))  # Typical Virginica values\n"
   ]
  },
  {
   "cell_type": "code",
   "execution_count": null,
   "id": "611fe386-7e5f-4715-b38a-7fdc435e77e5",
   "metadata": {},
   "outputs": [],
   "source": [
    "#Assignment  2\n",
    "find the outlier in every column , remove the outlier \n"
   ]
  },
  {
   "cell_type": "code",
   "execution_count": null,
   "id": "54e0af9d-8082-4e02-b904-221e397c0180",
   "metadata": {},
   "outputs": [],
   "source": []
  },
  {
   "cell_type": "code",
   "execution_count": null,
   "id": "15f2522f-36ff-4dfd-8b56-0cf1c372f376",
   "metadata": {},
   "outputs": [],
   "source": [
    "import seaborn as sns\n",
    "import matplotlib.pyplot as plt\n",
    "\n",
    "# Boxplot before removing outliers\n",
    "sns.boxplot(data=data[['SepalLengthCm', 'SepalWidthCm', 'PetalLengthCm', 'PetalWidthCm']])\n",
    "plt.title(\"Before Removing Outliers\")\n",
    "plt.show()\n",
    "\n",
    "# Boxplot after removing outliers\n",
    "sns.boxplot(data=cleaned_data[['SepalLengthCm', 'SepalWidthCm', 'PetalLengthCm', 'PetalWidthCm']])\n",
    "plt.title(\"After Removing Outliers\")\n",
    "plt.show()"
   ]
  },
  {
   "cell_type": "code",
   "execution_count": null,
   "id": "093a1125-2ec6-40cb-8485-252d4f9a0e77",
   "metadata": {},
   "outputs": [],
   "source": []
  }
 ],
 "metadata": {
  "kernelspec": {
   "display_name": "Python 3 (ipykernel)",
   "language": "python",
   "name": "python3"
  },
  "language_info": {
   "codemirror_mode": {
    "name": "ipython",
    "version": 3
   },
   "file_extension": ".py",
   "mimetype": "text/x-python",
   "name": "python",
   "nbconvert_exporter": "python",
   "pygments_lexer": "ipython3",
   "version": "3.12.7"
  }
 },
 "nbformat": 4,
 "nbformat_minor": 5
}
